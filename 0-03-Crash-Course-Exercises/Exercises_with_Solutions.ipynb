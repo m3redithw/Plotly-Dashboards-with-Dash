{
 "cells": [
  {
   "cell_type": "code",
   "execution_count": null,
   "id": "8d5a6594",
   "metadata": {},
   "outputs": [],
   "source": [
    "##################################################################\n",
    "####### Crash Course Review Exercises \n",
    "#########################################################\n",
    "\n",
    "#########################################################\n",
    "# Complete the tasks numbered below.\n",
    "# If you get stuck, check out the solution video!\n",
    "#######################################################"
   ]
  },
  {
   "cell_type": "markdown",
   "id": "839a2566",
   "metadata": {},
   "source": [
    "# TASK 1: Import pandas and numpy"
   ]
  },
  {
   "cell_type": "code",
   "execution_count": 2,
   "id": "9f7b45e6",
   "metadata": {},
   "outputs": [],
   "source": [
    "import pandas as pd\n",
    "import numpy as np"
   ]
  },
  {
   "cell_type": "markdown",
   "id": "57c05f55",
   "metadata": {},
   "source": [
    "# TASK 2: Set Numpy's random number generator seed to 101"
   ]
  },
  {
   "cell_type": "code",
   "execution_count": 3,
   "id": "3c46c5ea",
   "metadata": {},
   "outputs": [],
   "source": [
    "np.random.seed(101)"
   ]
  },
  {
   "cell_type": "markdown",
   "id": "c13ff3b8",
   "metadata": {},
   "source": [
    "# TASK 3: Create a NumPy Matrix of 100 rows by 5 columns consisting of random integers from 1-100. (Keep in mind that the upper limit may be exclusive.)"
   ]
  },
  {
   "cell_type": "code",
   "execution_count": 4,
   "id": "d0722857",
   "metadata": {},
   "outputs": [
    {
     "name": "stdout",
     "output_type": "stream",
     "text": [
      "[[ 96  12  82  71  64]\n",
      " [ 88  76  10  78  41]\n",
      " [  5  64  41  61  93]\n",
      " [ 65   6  13  94  41]\n",
      " [ 50  84   9  30  60]\n",
      " [ 35  45  73  20  11]\n",
      " [ 77  96  88   1  74]\n",
      " [  9  63  37  84 100]\n",
      " [ 29  64   8  11  53]\n",
      " [ 57  39  74  53  19]\n",
      " [ 72  16  45   1  13]\n",
      " [ 18  76  80  98  94]\n",
      " [ 25  37  64  20  36]\n",
      " [ 31  11  61  21  28]\n",
      " [  9  87  27  88  47]\n",
      " [ 48  55  87  10  46]\n",
      " [  3  19  59  93  12]\n",
      " [ 11  95  36  29   4]\n",
      " [ 84  85  48  15  70]\n",
      " [ 61  70  52   7  89]\n",
      " [ 72  69  24  36  80]\n",
      " [ 99  68  83  58  78]\n",
      " [ 47   4  47  30  87]\n",
      " [ 22  22  82  24  95]\n",
      " [ 72  21  28  76   6]\n",
      " [ 50  87  90  64  83]\n",
      " [ 78   4  57  15  50]\n",
      " [ 88  53  14  48  50]\n",
      " [ 25  21  65  53  61]\n",
      " [ 48  30  61  54  12]\n",
      " [ 41  92  46  98  25]\n",
      " [ 37  39  10  53  68]\n",
      " [ 44   2  80  69  69]\n",
      " [ 62  19  52  15  29]\n",
      " [ 18  88  47  53  17]\n",
      " [ 71  72  85  11  63]\n",
      " [ 97  58  24  87  86]\n",
      " [ 27  77  67  55  18]\n",
      " [ 66  58  90   3  81]\n",
      " [ 51  67  89  80  94]\n",
      " [  7  93  43  23  21]\n",
      " [ 26  98  55  72  73]\n",
      " [ 81  94  65  64  81]\n",
      " [ 39  46  36  26  96]\n",
      " [ 76  73  12  77  80]\n",
      " [ 51  23  60  67   2]\n",
      " [ 35  38  58  36  43]\n",
      " [ 45  50  32  80  86]\n",
      " [  4  56  74  94  95]\n",
      " [100  41  55  89  95]\n",
      " [ 87  18  69  18  19]\n",
      " [ 61  84  83   8  68]\n",
      " [ 35  77  95  21  70]\n",
      " [ 74  60  35  70  26]\n",
      " [ 79  93  75  76  34]\n",
      " [ 10  44  21  83  31]\n",
      " [  4  47  30  48  28]\n",
      " [ 82  72  26  95  58]\n",
      " [ 22  30   7  55  48]\n",
      " [ 48  61   7  76  98]\n",
      " [ 54  45  99  40  33]\n",
      " [ 88  79  22  91  15]\n",
      " [ 21   2  71  26  46]\n",
      " [ 97  33  32  42  80]\n",
      " [ 88  23  95  47  72]\n",
      " [ 25  42  37  32  17]\n",
      " [ 88  23  97   4  13]\n",
      " [ 72  10  88  96  40]\n",
      " [ 65  63  89  77  94]\n",
      " [ 84  96  69  70  60]\n",
      " [ 53   8  41  74  87]\n",
      " [ 15  50  98  26  58]\n",
      " [ 41  18  33  84  98]\n",
      " [ 28  48  14  71  16]\n",
      " [ 93  19  95  49  66]\n",
      " [ 83  35   6  47  84]\n",
      " [ 28  27  21  88  85]\n",
      " [ 18  60  65  45   5]\n",
      " [ 52  50  75  83  38]\n",
      " [ 54  94  74   6  38]\n",
      " [ 57  36  16  41  43]\n",
      " [ 72  38  47  72  92]\n",
      " [ 98  37  44  28  67]\n",
      " [ 58   4  56  71  42]\n",
      " [ 68  73  89  68  76]\n",
      " [ 70  93  21  16  58]\n",
      " [ 10  70  98  92  52]\n",
      " [ 55  46  39  16  43]\n",
      " [ 62   9   4  89  73]\n",
      " [ 42  25  94  29  96]\n",
      " [ 44  49  70  43  67]\n",
      " [ 83  67  89  79  15]\n",
      " [ 54  47  15  28  69]\n",
      " [ 22  39  43  31  89]\n",
      " [ 80  57  66  94  38]\n",
      " [ 88  67  17  61  26]\n",
      " [100  31  42  73  46]\n",
      " [ 27  88  66  61  90]\n",
      " [ 71  34  60  29  17]\n",
      " [ 50  96  42  12  87]]\n"
     ]
    }
   ],
   "source": [
    "mat = np.random.randint(1,101,(100,5))\n",
    "print(mat)"
   ]
  },
  {
   "cell_type": "markdown",
   "id": "3f13739d",
   "metadata": {},
   "source": [
    "# TASK 4: Now use pd.DataFrame() to read in this numpy array as a dataframe. Simple pass in the numpy array into that function to get back a dataframe. Pandas will auto label the columns to 0-4"
   ]
  },
  {
   "cell_type": "code",
   "execution_count": 5,
   "id": "b0bf2a42",
   "metadata": {},
   "outputs": [
    {
     "name": "stdout",
     "output_type": "stream",
     "text": [
      "      0   1   2   3   4\n",
      "0    96  12  82  71  64\n",
      "1    88  76  10  78  41\n",
      "2     5  64  41  61  93\n",
      "3    65   6  13  94  41\n",
      "4    50  84   9  30  60\n",
      "..  ...  ..  ..  ..  ..\n",
      "95   88  67  17  61  26\n",
      "96  100  31  42  73  46\n",
      "97   27  88  66  61  90\n",
      "98   71  34  60  29  17\n",
      "99   50  96  42  12  87\n",
      "\n",
      "[100 rows x 5 columns]\n"
     ]
    }
   ],
   "source": [
    "df = pd.DataFrame(mat)\n",
    "print(df)"
   ]
  },
  {
   "cell_type": "markdown",
   "id": "b1e4a193",
   "metadata": {},
   "source": [
    "# TASK 5: Using your previously created DataFrame, use [df.columns = [...]] (https://stackoverflow.com/questions/11346283/renaming-columns-in-pandas) to rename the pandas columns to be ['f1','f2','f3','f4','label']."
   ]
  },
  {
   "cell_type": "code",
   "execution_count": 6,
   "id": "ed7e8d67",
   "metadata": {},
   "outputs": [],
   "source": [
    "df.columns = ['f1','f2','f3','f4','label']"
   ]
  },
  {
   "cell_type": "markdown",
   "id": "33fc95de",
   "metadata": {},
   "source": [
    "# TASK 6: Alright, all the other tasks were hopefully straightforward. This final task will allow you to quickly check to see if you are at the right level with pandas! Do the following:\n",
    "- Create a dataframe with the columns ['A','B','C','D'] with each column having 50 rows of random numbers for data. \n",
    "\n",
    "- The random numbers should be between 0 and 100. (Hint: Use numpy to create the numbers, then pass it in to pd.DataFrame(), check out the data= and index= parameters for that call.)"
   ]
  },
  {
   "cell_type": "code",
   "execution_count": 7,
   "id": "0595c83f",
   "metadata": {},
   "outputs": [],
   "source": [
    "random_numbers = np.random.randint(0,100,200)\n",
    "random_mat = random_numbers.reshape(50,4)\n",
    "col_names = 'A B C D'.split()\n",
    "df = pd.DataFrame(data = random_mat,columns=col_names)"
   ]
  }
 ],
 "metadata": {
  "kernelspec": {
   "display_name": "Python 3 (ipykernel)",
   "language": "python",
   "name": "python3"
  },
  "language_info": {
   "codemirror_mode": {
    "name": "ipython",
    "version": 3
   },
   "file_extension": ".py",
   "mimetype": "text/x-python",
   "name": "python",
   "nbconvert_exporter": "python",
   "pygments_lexer": "ipython3",
   "version": "3.9.12"
  }
 },
 "nbformat": 4,
 "nbformat_minor": 5
}
